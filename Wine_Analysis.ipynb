{
 "cells": [
  {
   "cell_type": "code",
   "execution_count": 1,
   "id": "62a3c943",
   "metadata": {},
   "outputs": [],
   "source": [
    "import pandas as pd"
   ]
  },
  {
   "cell_type": "markdown",
   "id": "822e0c7d",
   "metadata": {},
   "source": [
    "## Red Wine "
   ]
  },
  {
   "cell_type": "markdown",
   "id": "6927a88a",
   "metadata": {},
   "source": [
    "## White Wine"
   ]
  },
  {
   "cell_type": "code",
   "execution_count": null,
   "id": "69eda005",
   "metadata": {},
   "outputs": [],
   "source": [
    "## Merge Red  DataFrames"
   ]
  }
 ],
 "metadata": {
  "kernelspec": {
   "display_name": "PythonData",
   "language": "python",
   "name": "pythondata"
  },
  "language_info": {
   "codemirror_mode": {
    "name": "ipython",
    "version": 3
   },
   "file_extension": ".py",
   "mimetype": "text/x-python",
   "name": "python",
   "nbconvert_exporter": "python",
   "pygments_lexer": "ipython3",
   "version": "3.9.7"
  }
 },
 "nbformat": 4,
 "nbformat_minor": 5
}
